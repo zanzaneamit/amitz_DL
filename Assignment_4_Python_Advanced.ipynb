{
  "nbformat": 4,
  "nbformat_minor": 0,
  "metadata": {
    "kernelspec": {
      "display_name": "Python 3",
      "language": "python",
      "name": "python3"
    },
    "language_info": {
      "codemirror_mode": {
        "name": "ipython",
        "version": 3
      },
      "file_extension": ".py",
      "mimetype": "text/x-python",
      "name": "python",
      "nbconvert_exporter": "python",
      "pygments_lexer": "ipython3",
      "version": "3.7.4"
    },
    "colab": {
      "name": "Assignment 4 - Python Advanced.ipynb",
      "provenance": [],
      "include_colab_link": true
    }
  },
  "cells": [
    {
      "cell_type": "markdown",
      "metadata": {
        "id": "view-in-github",
        "colab_type": "text"
      },
      "source": [
        "<a href=\"https://colab.research.google.com/github/zanzaneamit/amitz_DL/blob/master/Assignment_4_Python_Advanced.ipynb\" target=\"_parent\"><img src=\"https://colab.research.google.com/assets/colab-badge.svg\" alt=\"Open In Colab\"/></a>"
      ]
    },
    {
      "cell_type": "markdown",
      "metadata": {
        "id": "N5wWw8UFcIOi",
        "colab_type": "text"
      },
      "source": [
        "# Assignment 4 Questions"
      ]
    },
    {
      "cell_type": "markdown",
      "metadata": {
        "id": "X4bgumGIcIOl",
        "colab_type": "text"
      },
      "source": [
        "## Problem Statement"
      ]
    },
    {
      "cell_type": "markdown",
      "metadata": {
        "id": "IjZrsEA7cIOn",
        "colab_type": "text"
      },
      "source": [
        "Q.1 Given a sequence of n values x1, x2, ..., xn and a window size k>0, the k-th moving average of\n",
        "the given sequence is defined as follows:\n",
        "\n",
        "The moving average sequence has n-k+1 elements as shown below.\n",
        "The moving averages with k=4 of a ten-value sequence (n=10) is shown below\n",
        "\n",
        "    i 1 2 3 4 5 6 7 8 9 10\n",
        "    ===== == == == == == == == == == ==\n",
        "    Input 10 20 30 40 50 60 70 80 90 100\n",
        "    y1 25 = (10+20+30+40)/4\n",
        "    y2 35 = (20+30+40+50)/4\n",
        "    y3 45 = (30+40+50+60)/4\n",
        "    y4 55 = (40+50+60+70)/4\n",
        "    y5 65 = (50+60+70+80)/4\n",
        "    y6 75 = (60+70+80+90)/4\n",
        "    y7 85 = (70+80+90+100)/4\n",
        "\n",
        "Thus, the moving average sequence has n-k+1=10-4+1=7 values.\n",
        "\n",
        "Write a function to find moving average in an array over a window:\n",
        "\n",
        "Test it over [3, 5, 7, 2, 8, 10, 11, 65, 72, 81, 99, 100, 150] and window of 3."
      ]
    },
    {
      "cell_type": "code",
      "metadata": {
        "id": "AXBZU8MocIOq",
        "colab_type": "code",
        "outputId": "52343fff-d250-4c69-b4a4-bb538db1a14f",
        "colab": {
          "base_uri": "https://localhost:8080/",
          "height": 88
        }
      },
      "source": [
        "def moving_avg(list1,window):\n",
        "  mov_avg = []\n",
        "  for i in range(len(list1) - window + 1):\n",
        "    sum = 0\n",
        "    for j in range(i, window + i):\n",
        "      sum = sum + list1[j]\n",
        "    mov_avg.append(sum/window)\n",
        "  return mov_avg\n",
        "\n",
        "l1 = list(map(int, input('Input values for sequence: ').split(',')))\n",
        "w = int(input('Input window: '))\n",
        "\n",
        "print(moving_avg(l1,w))\n",
        "\n",
        "\n"
      ],
      "execution_count": 0,
      "outputs": [
        {
          "output_type": "stream",
          "text": [
            "Input values for sequence: 3, 5, 7, 2, 8, 10, 11, 65, 72, 81, 99, 100, 150\n",
            "Input window: 3\n",
            "[5.0, 4.666666666666667, 5.666666666666667, 6.666666666666667, 9.666666666666666, 28.666666666666668, 49.333333333333336, 72.66666666666667, 84.0, 93.33333333333333, 116.33333333333333]\n"
          ],
          "name": "stdout"
        }
      ]
    },
    {
      "cell_type": "code",
      "metadata": {
        "id": "gN2tuQNcRXkj",
        "colab_type": "code",
        "outputId": "6549311d-fa5d-49bf-fa3a-758f7a7bd9ea",
        "colab": {
          "base_uri": "https://localhost:8080/",
          "height": 255
        }
      },
      "source": [
        "import pandas as pd\n",
        "df = pd.DataFrame(data = [3, 5, 7, 2, 8, 10, 11, 65, 72, 81, 99, 100, 150])\n",
        "w = 3\n",
        "df['mov_avg'] = df.rolling(w).mean().fillna(0)\n",
        "print(df)"
      ],
      "execution_count": 0,
      "outputs": [
        {
          "output_type": "stream",
          "text": [
            "      0     mov_avg\n",
            "0     3    0.000000\n",
            "1     5    0.000000\n",
            "2     7    5.000000\n",
            "3     2    4.666667\n",
            "4     8    5.666667\n",
            "5    10    6.666667\n",
            "6    11    9.666667\n",
            "7    65   28.666667\n",
            "8    72   49.333333\n",
            "9    81   72.666667\n",
            "10   99   84.000000\n",
            "11  100   93.333333\n",
            "12  150  116.333333\n"
          ],
          "name": "stdout"
        }
      ]
    },
    {
      "cell_type": "markdown",
      "metadata": {
        "id": "3zuDULhocIOw",
        "colab_type": "text"
      },
      "source": [
        "Q.2 How-to-count-distance-to-the-previous-zero\n",
        "For each value, count the difference back to the previous zero (or the start of the Series,\n",
        "whichever is closer)\n",
        "create a new column 'Y'\n",
        "Consider a DataFrame df where there is an integer column 'X'\n",
        "    \n",
        "    import pandas as pd\n",
        "    df = pd.DataFrame({'X': [7, 2, 0, 3, 4, 2, 5, 0, 3, 4]})"
      ]
    },
    {
      "cell_type": "code",
      "metadata": {
        "id": "ia5wexppcIOz",
        "colab_type": "code",
        "outputId": "c86f06c5-e124-4b7e-f93a-26df6edc6883",
        "colab": {
          "base_uri": "https://localhost:8080/",
          "height": 289
        }
      },
      "source": [
        "import pandas as pd\n",
        "import numpy as np\n",
        "df = pd.DataFrame({'X': [7, 2, 0, 3, 4, 2, 5, 0, 3, 4]})\n",
        "s1 = pd.Series(data=df.index[df['X'] == 0])\n",
        "s1=pd.Series(data=-1).append(s1)\n",
        "print(s1)\n",
        "s2=s1.shift(-1,fill_value=10000)\n",
        "\n",
        "df['ind'] = df.index\n",
        "i,j = np.where((df['ind'].values[:,None] >= s1.values) & (df['ind'].values[:,None] < s2.values))\n",
        "print(i,j)\n",
        "pd_new = pd.DataFrame(np.column_stack([df.values[i],s1.values[j]]),columns=['X','ind','diff'])\n",
        "pd_new['dist_from_prev_zero'] = pd_new['ind'] - pd_new['diff']\n",
        "print(pd_new)"
      ],
      "execution_count": 0,
      "outputs": [
        {
          "output_type": "stream",
          "text": [
            "0   -1\n",
            "0    2\n",
            "1    7\n",
            "dtype: int64\n",
            "[0 1 2 3 4 5 6 7 8 9] [0 0 1 1 1 1 1 2 2 2]\n",
            "   X  ind  diff  dist_from_prev_zero\n",
            "0  7    0    -1                    1\n",
            "1  2    1    -1                    2\n",
            "2  0    2     2                    0\n",
            "3  3    3     2                    1\n",
            "4  4    4     2                    2\n",
            "5  2    5     2                    3\n",
            "6  5    6     2                    4\n",
            "7  0    7     7                    0\n",
            "8  3    8     7                    1\n",
            "9  4    9     7                    2\n"
          ],
          "name": "stdout"
        }
      ]
    },
    {
      "cell_type": "code",
      "metadata": {
        "id": "fyRehk6FEIgq",
        "colab_type": "code",
        "outputId": "0cadbf07-0916-4885-fd3d-4eee3a210543",
        "colab": {
          "base_uri": "https://localhost:8080/",
          "height": 459
        }
      },
      "source": [
        "!pip install pandasql\n",
        "import pandas as pd\n",
        "import pandasql as ps\n",
        "\n",
        "df = pd.DataFrame({'X': [7, 2, 0, 3, 4, 2, 5, 0, 3, 4]})\n",
        "df['ind'] = df.index\n",
        "\n",
        "s1 = pd.Series(data=df.index[df['X'] == 0])\n",
        "s1=pd.Series(data=-1).append(s1)\n",
        "print(s1)\n",
        "s2=s1.shift(-1,fill_value=10000)\n",
        "new_df = {'range_from': s1, 'range_to': s2}\n",
        "df_range = pd.DataFrame(new_df)\n",
        "print(df_range)\n",
        "\n",
        "sqlcode = '''\n",
        "select *\n",
        "from df\n",
        "inner join df_range on df.ind >= df_range.range_from\n",
        "and df.ind < df_range.range_to\n",
        "'''\n",
        "\n",
        "newdf = ps.sqldf(sqlcode,locals())\n",
        "newdf['dist_from_prev_zero'] = newdf['ind'] - newdf['range_from']\n",
        "print(newdf)"
      ],
      "execution_count": 0,
      "outputs": [
        {
          "output_type": "stream",
          "text": [
            "Requirement already satisfied: pandasql in /usr/local/lib/python3.6/dist-packages (0.7.3)\n",
            "Requirement already satisfied: sqlalchemy in /usr/local/lib/python3.6/dist-packages (from pandasql) (1.3.13)\n",
            "Requirement already satisfied: pandas in /usr/local/lib/python3.6/dist-packages (from pandasql) (0.25.3)\n",
            "Requirement already satisfied: numpy in /usr/local/lib/python3.6/dist-packages (from pandasql) (1.17.5)\n",
            "Requirement already satisfied: pytz>=2017.2 in /usr/local/lib/python3.6/dist-packages (from pandas->pandasql) (2018.9)\n",
            "Requirement already satisfied: python-dateutil>=2.6.1 in /usr/local/lib/python3.6/dist-packages (from pandas->pandasql) (2.6.1)\n",
            "Requirement already satisfied: six>=1.5 in /usr/local/lib/python3.6/dist-packages (from python-dateutil>=2.6.1->pandas->pandasql) (1.12.0)\n",
            "0   -1\n",
            "0    2\n",
            "1    7\n",
            "dtype: int64\n",
            "   range_from  range_to\n",
            "0          -1         2\n",
            "0           2         7\n",
            "1           7     10000\n",
            "   X  ind  range_from  range_to  dist_from_prev_zero\n",
            "0  7    0          -1         2                    1\n",
            "1  2    1          -1         2                    2\n",
            "2  0    2           2         7                    0\n",
            "3  3    3           2         7                    1\n",
            "4  4    4           2         7                    2\n",
            "5  2    5           2         7                    3\n",
            "6  5    6           2         7                    4\n",
            "7  0    7           7     10000                    0\n",
            "8  3    8           7     10000                    1\n",
            "9  4    9           7     10000                    2\n"
          ],
          "name": "stdout"
        }
      ]
    },
    {
      "cell_type": "code",
      "metadata": {
        "id": "wDOFALLdES4i",
        "colab_type": "code",
        "outputId": "bb69d8f7-b372-41e7-9a6d-d37a5528b0f8",
        "colab": {
          "base_uri": "https://localhost:8080/",
          "height": 136
        }
      },
      "source": [
        ""
      ],
      "execution_count": 0,
      "outputs": [
        {
          "output_type": "stream",
          "text": [
            "Requirement already satisfied: pandasql in /usr/local/lib/python3.6/dist-packages (0.7.3)\n",
            "Requirement already satisfied: pandas in /usr/local/lib/python3.6/dist-packages (from pandasql) (0.25.3)\n",
            "Requirement already satisfied: sqlalchemy in /usr/local/lib/python3.6/dist-packages (from pandasql) (1.3.13)\n",
            "Requirement already satisfied: numpy in /usr/local/lib/python3.6/dist-packages (from pandasql) (1.17.5)\n",
            "Requirement already satisfied: pytz>=2017.2 in /usr/local/lib/python3.6/dist-packages (from pandas->pandasql) (2018.9)\n",
            "Requirement already satisfied: python-dateutil>=2.6.1 in /usr/local/lib/python3.6/dist-packages (from pandas->pandasql) (2.6.1)\n",
            "Requirement already satisfied: six>=1.5 in /usr/local/lib/python3.6/dist-packages (from python-dateutil>=2.6.1->pandas->pandasql) (1.12.0)\n"
          ],
          "name": "stdout"
        }
      ]
    },
    {
      "cell_type": "code",
      "metadata": {
        "id": "rVLr6uZ2EUnR",
        "colab_type": "code",
        "colab": {}
      },
      "source": [
        ""
      ],
      "execution_count": 0,
      "outputs": []
    },
    {
      "cell_type": "markdown",
      "metadata": {
        "id": "jTNE7kHucIO8",
        "colab_type": "text"
      },
      "source": [
        "Q.3 Create a DatetimeIndex that contains each business day of 2015 and use it to index a Series of\n",
        "random numbers."
      ]
    },
    {
      "cell_type": "code",
      "metadata": {
        "id": "CWKq8lbecIO9",
        "colab_type": "code",
        "outputId": "f87550a3-3e66-4d10-d172-c0178ac714c2",
        "colab": {
          "base_uri": "https://localhost:8080/",
          "height": 221
        }
      },
      "source": [
        "import pandas as pd\n",
        "import numpy as np\n",
        "\n",
        "dt1 = pd.bdate_range(start = '2015-01-01',end = '2015-12-31')\n",
        "data1 = pd.Series(data=np.random.randint(1,1000,len(dt1)),index=dt1)\n",
        "print(data1)\n",
        "\n"
      ],
      "execution_count": 0,
      "outputs": [
        {
          "output_type": "stream",
          "text": [
            "2015-01-01    776\n",
            "2015-01-02    893\n",
            "2015-01-05    246\n",
            "2015-01-06    154\n",
            "2015-01-07     72\n",
            "             ... \n",
            "2015-12-25    740\n",
            "2015-12-28    753\n",
            "2015-12-29    959\n",
            "2015-12-30    356\n",
            "2015-12-31    896\n",
            "Freq: B, Length: 261, dtype: int64\n"
          ],
          "name": "stdout"
        }
      ]
    },
    {
      "cell_type": "markdown",
      "metadata": {
        "id": "_hxmWItTcIPF",
        "colab_type": "text"
      },
      "source": [
        "Q.4 "
      ]
    }
  ]
}