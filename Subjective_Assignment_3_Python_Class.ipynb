{
  "nbformat": 4,
  "nbformat_minor": 0,
  "metadata": {
    "kernelspec": {
      "display_name": "Python 3",
      "language": "python",
      "name": "python3"
    },
    "language_info": {
      "codemirror_mode": {
        "name": "ipython",
        "version": 3
      },
      "file_extension": ".py",
      "mimetype": "text/x-python",
      "name": "python",
      "nbconvert_exporter": "python",
      "pygments_lexer": "ipython3",
      "version": "3.7.4"
    },
    "colab": {
      "name": "Subjective Assignment - 3 - Python Class.ipynb",
      "provenance": [],
      "include_colab_link": true
    }
  },
  "cells": [
    {
      "cell_type": "markdown",
      "metadata": {
        "id": "view-in-github",
        "colab_type": "text"
      },
      "source": [
        "<a href=\"https://colab.research.google.com/github/zanzaneamit/amitz_DL/blob/master/Subjective_Assignment_3_Python_Class.ipynb\" target=\"_parent\"><img src=\"https://colab.research.google.com/assets/colab-badge.svg\" alt=\"Open In Colab\"/></a>"
      ]
    },
    {
      "cell_type": "markdown",
      "metadata": {
        "id": "GFA2KVTK8R7d",
        "colab_type": "text"
      },
      "source": [
        "# Assignment"
      ]
    },
    {
      "cell_type": "markdown",
      "metadata": {
        "id": "ib-YdLsc8R7h",
        "colab_type": "text"
      },
      "source": [
        "Q1. Write the Python class to convert an integer to a roman numeral?"
      ]
    },
    {
      "cell_type": "code",
      "metadata": {
        "id": "i4dK38Ao8R7j",
        "colab_type": "code",
        "colab": {
          "base_uri": "https://localhost:8080/",
          "height": 50
        },
        "outputId": "51a1a052-2a34-4d8f-e5b9-704fa1645dcd"
      },
      "source": [
        "class roman:\n",
        "  #mapping = {'M' : 1000, 'D' : 500, 'C' : 100, 'L' : 50, 'X' : 10, 'V' : 5, 'I' : 1 }\n",
        "  master_list = [['M',1000],['D',500],['C',100], ['L',50], ['X', 10], ['V', 5], ['I', 1]]\n",
        "\n",
        "  roman_num = ''\n",
        "\n",
        "  def __init__(self,int_num):\n",
        "    self.int_num = int_num\n",
        "\n",
        "  def print_mapping():\n",
        "    print(roman.master_list)\n",
        "\n",
        "  def convert2roman(self):\n",
        "    num=self.int_num\n",
        "    div = 0\n",
        "    rem = 0\n",
        "    \n",
        "    prev_roman_letter = ''\n",
        "    prev_prev_roman_letter = ''\n",
        "    setter = False # this will be set to True if we have already changed last calculated letter eg. IV, IX, XL, and so on\n",
        "    for i in range(len(roman.master_list)):\n",
        "      rem = num % roman.master_list[i][1]\n",
        "      if rem == num:\n",
        "        pass\n",
        "      else:\n",
        "        div = int(num/roman.master_list[i][1])\n",
        "        if roman.master_list[i][1] != 1000 and div == 4: # scenario where last calculated letter needs to be changed\n",
        "          if self.roman_num != '' and self.roman_num[-1] in ('V', 'L', 'D') and setter == False: # If last letter is related to 5** and we have not changed last calculated letter already,\n",
        "            self.roman_num = self.roman_num[:-1] + roman.master_list[i][0] + prev_prev_roman_letter # then use roman letter 2 level up, eg. IX\n",
        "            setter = True\n",
        "          else: # if last calculated letter is not related to 5** or blank, then just use roman letter 1 level up, eg. IV, XIV, etc\n",
        "            self.roman_num = self.roman_num + roman.master_list[i][0] + prev_roman_letter\n",
        "            setter = True\n",
        "        else: # normal scenario\n",
        "          self.roman_num = self.roman_num + roman.master_list[i][0]*div\n",
        "          setter = False\n",
        "        num = rem\n",
        "      prev_prev_roman_letter = prev_roman_letter\n",
        "      prev_roman_letter = roman.master_list[i][0]\n",
        "      if num == 0: # stop if remainder is zero\n",
        "        break\n",
        "\n",
        "r1 = roman(int(input('Input Number')))\n",
        "#roman.print_mapping()\n",
        "r1.convert2roman()\n",
        "print('Converted Roman numeral is - ' + r1.roman_num)\n",
        "\n"
      ],
      "execution_count": 1,
      "outputs": [
        {
          "output_type": "stream",
          "text": [
            "Input Number4403\n",
            "Converted Roman numeral is - MMMMCDIII\n"
          ],
          "name": "stdout"
        }
      ]
    },
    {
      "cell_type": "markdown",
      "metadata": {
        "id": "XtJnAR1d8R7p",
        "colab_type": "text"
      },
      "source": [
        "Q2 Write the Python class to convert a Roman numeral to an integer?\n"
      ]
    },
    {
      "cell_type": "code",
      "metadata": {
        "id": "Xh0KMsVp8R7q",
        "colab_type": "code",
        "colab": {
          "base_uri": "https://localhost:8080/",
          "height": 50
        },
        "outputId": "f87d0a68-b717-43a5-9a1a-ab19387946e5"
      },
      "source": [
        "class roman:\n",
        "  master_dict = {'M' : [0,1000], 'D' : [1,500], 'C' : [2,100], 'L' : [3,50], 'X' : [4,10], 'V' : [5,5], 'I' : [6,1] }\n",
        "\n",
        "  int_num = 0\n",
        "  valid_roman_num = True\n",
        "\n",
        "  def __init__(self,roman_num):\n",
        "    self.roman_num = roman_num\n",
        "\n",
        "  def print_mapping():\n",
        "    print(roman.master_list)\n",
        "\n",
        "  def convert2int(self):\n",
        "    r_num=self.roman_num\n",
        "    n_len = len(r_num)\n",
        "    i = 0\n",
        "    v_prev = -1\n",
        "    setter = False\n",
        "    while(i < n_len):\n",
        "      i_letter = r_num[i]\n",
        "      v = self.master_dict.get(i_letter,[0,0])\n",
        "      if v[1] != 0: # make sure roman letter exists in master list\n",
        "        if setter == True and v[1] == v_prev:\n",
        "          self.int_num = 0\n",
        "          self.valid_roman_num = False\n",
        "          break\n",
        "        if i+1 < n_len: # if there is next roman letter available;\n",
        "          v_next = self.master_dict.get(r_num[i+1],[0,0])\n",
        "          if v_next[1] == 0:\n",
        "            self.int_num = 0\n",
        "            self.valid_roman_num = False\n",
        "            break\n",
        "          if v[1] < v_next[1]: # need to use next letter together\n",
        "            if v[0] > v_next[0] + 2: # 2 jumps means invalid Roman number, eg. IC, IL\n",
        "              self.int_num = 0\n",
        "              self.valid_roman_num = False\n",
        "              break\n",
        "            else:\n",
        "              self.int_num = self.int_num + v_next[1] - v[1]\n",
        "              i = i + 1 # next roman letter is processed in above line; can increase counter one more time\n",
        "              setter = True\n",
        "          else:\n",
        "            self.int_num = self.int_num + v[1]\n",
        "            setter = False\n",
        "        else:\n",
        "          self.int_num = self.int_num + v[1]\n",
        "          setter = False\n",
        "      else:\n",
        "        self.int_num = 0\n",
        "        self.valid_roman_num = False\n",
        "        break\n",
        "      i = i + 1\n",
        "      v_prev = v[1]\n",
        "      #print(self.int_num)\n",
        "\n",
        "  def print_roman(self):\n",
        "    if self.valid_roman_num:\n",
        "      print('Converted number is - %d'%self.int_num)\n",
        "    else:\n",
        "      print('Input Roman numeral is not Valid')\n",
        "      \n",
        "\n",
        "\n",
        "\n",
        "r1 = roman(input('Input Roman Number: '))\n",
        "#roman.print_mapping()\n",
        "r1.convert2int()\n",
        "r1.print_roman()\n",
        "\n"
      ],
      "execution_count": 13,
      "outputs": [
        {
          "output_type": "stream",
          "text": [
            "Input Roman Number: MMCDLIV\n",
            "Converted number is - 2454\n"
          ],
          "name": "stdout"
        }
      ]
    },
    {
      "cell_type": "markdown",
      "metadata": {
        "id": "yZla9af18R7v",
        "colab_type": "text"
      },
      "source": [
        "Q3. Write the Python class to find the validity of the string of the\n",
        "parentheses, '(', ')', '{', '}', '[' and '] and the brackets must be closed\n",
        "in the correct order, example - \"()\" and \"()[]{}\" are valid but \"[)\",\n",
        "\"({[)]\" and \"{{{\" are invalid.\n"
      ]
    },
    {
      "cell_type": "code",
      "metadata": {
        "id": "vixifXVO8R7w",
        "colab_type": "code",
        "colab": {
          "base_uri": "https://localhost:8080/",
          "height": 50
        },
        "outputId": "b90e0b30-9907-4b41-e71a-a83bcfcc0bd3"
      },
      "source": [
        "class str_bracket:\n",
        "  bracket_open = ['(', '{', '[']\n",
        "  bracket_close = [')', '}', ']']\n",
        "  valid_str = True\n",
        "\n",
        "  def __init__(self,str):\n",
        "    self.str = str\n",
        "\n",
        "  def str_validate(self):\n",
        "    stack = []\n",
        "    for i in self.str:\n",
        "      if i in self.bracket_open: # add to stack if char is open bracket\n",
        "        stack.append(i)\n",
        "      else:\n",
        "        if i in self.bracket_close: # if char is closing bracket, check if last stacked char is matching it\n",
        "          idx = self.bracket_close.index(i)\n",
        "          #print(idx)\n",
        "          if len(stack) > 0:\n",
        "            last_open = stack.pop()\n",
        "            #print(last_open)\n",
        "            last_open_idx = self.bracket_open.index(last_open)\n",
        "            #print(last_open_idx)\n",
        "\n",
        "            if idx != last_open_idx:\n",
        "              self.valid_str = False\n",
        "              break\n",
        "          else:\n",
        "            self.valid_str = False\n",
        "            break\n",
        "        \n",
        "s1 = str_bracket(input('Input string to validate: '))\n",
        "s1.str_validate()\n",
        "print(s1.valid_str)"
      ],
      "execution_count": 16,
      "outputs": [
        {
          "output_type": "stream",
          "text": [
            "Input string to validate: ([][[[[]{}()]{}]])\n",
            "True\n"
          ],
          "name": "stdout"
        }
      ]
    },
    {
      "cell_type": "markdown",
      "metadata": {
        "id": "elWEbyXH8R7z",
        "colab_type": "text"
      },
      "source": [
        "Q4. Write the Python class to get all possible unique subsets from a set\n",
        "of distinct integers?\n",
        "\n",
        "    Input - [4, 5, 6]\n",
        "    Output - [[], [6], [5], [5, 6], [4], [4, 6], [4, 5], [4, 5, 6]]"
      ]
    },
    {
      "cell_type": "code",
      "metadata": {
        "id": "j4jvZHHI8R70",
        "colab_type": "code",
        "outputId": "59f700a7-9407-4ac3-c73f-0fcf65fa0469",
        "colab": {
          "base_uri": "https://localhost:8080/",
          "height": 51
        }
      },
      "source": [
        "class subset_builder:\n",
        "  subset_list=[]\n",
        "  def __init__(self,l1):\n",
        "    self.l1 = l1\n",
        "\n",
        "  def build_subsets(self):\n",
        "    for i in range(pow(2,len(self.l1))):\n",
        "      bin_list = list(str(bin(i))[2:].rjust(len(self.l1), '0'))\n",
        "      l_inner = [self.l1[i] for i,v in enumerate(bin_list) if v=='1']\n",
        "      self.subset_list.append(l_inner)\n",
        "\n",
        "list1=subset_builder(list(map(int,input('input items for list separated by space: ').split())))\n",
        "list1.build_subsets()\n",
        "print(list1.subset_list)"
      ],
      "execution_count": 0,
      "outputs": [
        {
          "output_type": "stream",
          "text": [
            "input items for list separated by space: 1 2 3 4\n",
            "[[], [4], [3], [3, 4], [2], [2, 4], [2, 3], [2, 3, 4], [1], [1, 4], [1, 3], [1, 3, 4], [1, 2], [1, 2, 4], [1, 2, 3], [1, 2, 3, 4]]\n"
          ],
          "name": "stdout"
        }
      ]
    },
    {
      "cell_type": "markdown",
      "metadata": {
        "id": "xUNX6P0X8R73",
        "colab_type": "text"
      },
      "source": [
        "Q5. Write the Python class to find a pair of elements (indices of the two\n",
        "numbers) from a given array whose sum equals the specific target\n",
        "number?\n",
        "\n",
        "    Input: numbers- [10,20,10,40,50,60,70], target=50\n",
        "    Output- 3, 4"
      ]
    },
    {
      "cell_type": "code",
      "metadata": {
        "id": "IQxv-C-M8R74",
        "colab_type": "code",
        "outputId": "3c97dce2-0570-47db-94d3-4e92ef6ab460",
        "colab": {
          "base_uri": "https://localhost:8080/",
          "height": 68
        }
      },
      "source": [
        "class pair:\n",
        "  list1 = []\n",
        "  \n",
        "  def __init__(self,list1):\n",
        "    self.list1 = list1\n",
        "\n",
        "  def find_pair(self, sum_val):\n",
        "    l_len = len(self.list1)\n",
        "    for i in range(l_len - 1):\n",
        "      for j in range(i,l_len):\n",
        "        if self.list1[i] + self.list1[j] == sum_val:\n",
        "          return (i+1,j+1)\n",
        "\n",
        "l1 = pair(list(map(int,input('input items for list separated by space: ').split())))\n",
        "print(l1.find_pair(int(input('Input sum to find pair: '))))\n"
      ],
      "execution_count": 0,
      "outputs": [
        {
          "output_type": "stream",
          "text": [
            "input items for list separated by space: 1 2 3 2 4 5 6 7\n",
            "Input sum to find pair: 10\n",
            "(3, 8)\n"
          ],
          "name": "stdout"
        }
      ]
    },
    {
      "cell_type": "markdown",
      "metadata": {
        "id": "QmltGPv-8R77",
        "colab_type": "text"
      },
      "source": [
        "Q6. Write the Python class to find the three elements that sum to zero\n",
        "from the set of n real numbers?\n",
        "\n",
        "    Input array- [-25, -10, -7, -3, 2, 4, 8, 10]\n",
        "    Output - [[-10, 2, 8], [-7, -3, 10]]\n"
      ]
    },
    {
      "cell_type": "code",
      "metadata": {
        "id": "jyj5beGa8R78",
        "colab_type": "code",
        "outputId": "0eba0a5b-8c3f-4f18-e7dd-7d2773a94f81",
        "colab": {
          "base_uri": "https://localhost:8080/",
          "height": 51
        }
      },
      "source": [
        "class pair:\n",
        "  list1 = []\n",
        "  sum_zero_pair = []\n",
        "  \n",
        "  def __init__(self,list1):\n",
        "    self.list1 = list1\n",
        "\n",
        "  def find_sum_zero_elements(self):\n",
        "    l_len = len(self.list1)\n",
        "    for i in range(l_len - 2):\n",
        "      for j in range(i, l_len - 1):\n",
        "        for k in range(j, l_len):\n",
        "          if self.list1[i] + self.list1[j] + self.list1[k] == 0 and i != j and j != k :\n",
        "            self.sum_zero_pair.append([self.list1[i], self.list1[j], self.list1[k]])\n",
        "\n",
        "l1 = pair(list(map(int,input('input items for list separated by space: ').split())))\n",
        "l1.find_sum_zero_elements()\n",
        "print(l1.sum_zero_pair)\n"
      ],
      "execution_count": 0,
      "outputs": [
        {
          "output_type": "stream",
          "text": [
            "input items for list separated by space: -25 -10 -7 -3 2 4 8 10\n",
            "[[-10, 2, 8], [-7, -3, 10]]\n"
          ],
          "name": "stdout"
        }
      ]
    },
    {
      "cell_type": "markdown",
      "metadata": {
        "id": "Uu4wGSmj8R7_",
        "colab_type": "text"
      },
      "source": [
        "Q7. Write the Python class to implement pow(x, n)?"
      ]
    },
    {
      "cell_type": "code",
      "metadata": {
        "id": "pwPm5PYd8R8A",
        "colab_type": "code",
        "outputId": "1af4f32c-4bcb-43e7-d2d3-b76df3ee52a7",
        "colab": {
          "base_uri": "https://localhost:8080/",
          "height": 68
        }
      },
      "source": [
        "class pow_calculator:\n",
        "\n",
        "  def __init__(self,x,n):\n",
        "    self.x = x\n",
        "    self.n = n\n",
        "\n",
        "  def calc_pow(self):\n",
        "    res=1\n",
        "    for i in range(n):\n",
        "      res = res * x\n",
        "    return res\n",
        "\n",
        "x = int(input('Input number'))\n",
        "n = int(input('Input power'))\n",
        "num = pow_calculator(x,n)\n",
        "print('Result is : %d' %num.calc_pow())\n"
      ],
      "execution_count": 0,
      "outputs": [
        {
          "output_type": "stream",
          "text": [
            "Input number3\n",
            "Input power0\n",
            "Result is : 1\n"
          ],
          "name": "stdout"
        }
      ]
    },
    {
      "cell_type": "markdown",
      "metadata": {
        "id": "MfnHB_at8R8C",
        "colab_type": "text"
      },
      "source": [
        "Q8. Write the Python class which has two methods get_String and\n",
        "print_String. get_String accept the string from the user and \n",
        "print_String print the string in upper case."
      ]
    },
    {
      "cell_type": "code",
      "metadata": {
        "id": "Bg_DFhoM8R8D",
        "colab_type": "code",
        "outputId": "52733b0c-6530-45bf-b810-6156b1f43dba",
        "colab": {
          "base_uri": "https://localhost:8080/",
          "height": 51
        }
      },
      "source": [
        "class string:\n",
        "  def get_String(self,str_val):\n",
        "    self.str_val = str_val\n",
        "\n",
        "  def print_String(self):\n",
        "    print('Input String is - ' + str(self.str_val))\n",
        "\n",
        "s1 = string()\n",
        "s1.get_String(input('Input String: '))\n",
        "s1.print_String()"
      ],
      "execution_count": 0,
      "outputs": [
        {
          "output_type": "stream",
          "text": [
            "Input String: 123\n",
            "Input String is - 123\n"
          ],
          "name": "stdout"
        }
      ]
    },
    {
      "cell_type": "markdown",
      "metadata": {
        "id": "FiuazMyU8R8G",
        "colab_type": "text"
      },
      "source": [
        "Q9. Write the Python class named Rectangle constructed by a length\n",
        "and width and the method which will compute the area of the\n",
        "rectangle?"
      ]
    },
    {
      "cell_type": "code",
      "metadata": {
        "id": "HoEic5hd8R8H",
        "colab_type": "code",
        "outputId": "b700bfc9-fb5d-41c5-84b8-171c300ba7d5",
        "colab": {
          "base_uri": "https://localhost:8080/",
          "height": 68
        }
      },
      "source": [
        "class Rectangle:\n",
        "  def __init__(self,l,w):\n",
        "    self.l = l\n",
        "    self.w = w\n",
        "\n",
        "  def calc_area(self):\n",
        "    return self.l * self.w\n",
        "\n",
        "\n",
        "l = float(input('Input Length: '))\n",
        "w = float(input('Input Width: '))\n",
        "r1 = Rectangle(l, w)\n",
        "print('Area of rectangle is: %f' %r1.calc_area())"
      ],
      "execution_count": 0,
      "outputs": [
        {
          "output_type": "stream",
          "text": [
            "Input Length: 1.2\n",
            "Input Width: 2.4\n",
            "Area of rectangle is: 2.880000\n"
          ],
          "name": "stdout"
        }
      ]
    },
    {
      "cell_type": "markdown",
      "metadata": {
        "id": "s7y272jL8R8J",
        "colab_type": "text"
      },
      "source": [
        "Q10. Write the Python class named Circle constructed by the radius\n",
        "and two methods which will compute the area and perimeter of\n",
        "the circle?"
      ]
    },
    {
      "cell_type": "code",
      "metadata": {
        "id": "A69OwJuD8R8K",
        "colab_type": "code",
        "outputId": "5b2f3102-09ef-4106-c7c7-1c32796c9964",
        "colab": {
          "base_uri": "https://localhost:8080/",
          "height": 68
        }
      },
      "source": [
        "class Circle:\n",
        "  def __init__(self,r):\n",
        "    self.r = r\n",
        "\n",
        "  def calc_area(self):\n",
        "    return self.r * self.r * 22 / 7\n",
        "\n",
        "  def calc_perimeter(self):\n",
        "    return 2 * self.r * 22 / 7\n",
        "\n",
        "\n",
        "c1 = Circle(float(input('Input Radius: ')))\n",
        "print('Area of circle is: %f' %c1.calc_area())\n",
        "print('Area of circle is: %f' %c1.calc_perimeter())"
      ],
      "execution_count": 0,
      "outputs": [
        {
          "output_type": "stream",
          "text": [
            "Input Radius: 1\n",
            "Area of circle is: 3.142857\n",
            "Area of circle is: 6.285714\n"
          ],
          "name": "stdout"
        }
      ]
    },
    {
      "cell_type": "markdown",
      "metadata": {
        "id": "4Xegatxc8R8N",
        "colab_type": "text"
      },
      "source": [
        "Q11. Write the Python program to get the class name of an instance in\n",
        "Python?"
      ]
    },
    {
      "cell_type": "code",
      "metadata": {
        "id": "r_TKvphQ8R8N",
        "colab_type": "code",
        "outputId": "8901c9a9-3b04-4a09-fa37-f569787343a3",
        "colab": {
          "base_uri": "https://localhost:8080/",
          "height": 51
        }
      },
      "source": [
        "def class_type(class1):\n",
        "  return type(class1).__name__\n",
        "c1 = Circle(10)\n",
        "r1 = Rectangle(4,5)\n",
        "\n",
        "print(class_type(c1))\n",
        "print(class_type(r1))"
      ],
      "execution_count": 0,
      "outputs": [
        {
          "output_type": "stream",
          "text": [
            "Circle\n",
            "Rectangle\n"
          ],
          "name": "stdout"
        }
      ]
    },
    {
      "cell_type": "markdown",
      "metadata": {
        "id": "bzuMwixy8R8Q",
        "colab_type": "text"
      },
      "source": [
        "Q12. Write the Python program to count the number of students of\n",
        "individual class?\n",
        "\n",
        "    Sample dataclasses = (\n",
        "    ('V', 1),\n",
        "    ('VI', 1),\n",
        "    ('V', 2),\n",
        "    ('VI', 2),\n",
        "    ('VI', 3),\n",
        "    ('VII', 1),\n",
        "    )\n",
        "    Expected OutputCounter({'VI': 3, 'V': 2, 'VII': 1})"
      ]
    },
    {
      "cell_type": "code",
      "metadata": {
        "id": "pgCQYWW58R8R",
        "colab_type": "code",
        "outputId": "6f88a814-87de-4d53-cbf2-51228435dd8d",
        "colab": {
          "base_uri": "https://localhost:8080/",
          "height": 51
        }
      },
      "source": [
        "t1 = (('V',1),('VI',1),('V',2),('VI',2),('VI',3),('VII',1))\n",
        "print(t1)\n",
        "\n",
        "d1 = dict()\n",
        "for cls,num in t1:\n",
        "  d1[cls] = d1.get(cls,0) + 1\n",
        "\n",
        "print(d1)"
      ],
      "execution_count": 0,
      "outputs": [
        {
          "output_type": "stream",
          "text": [
            "(('V', 1), ('VI', 1), ('V', 2), ('VI', 2), ('VI', 3), ('VII', 1))\n",
            "{'V': 2, 'VI': 3, 'VII': 1}\n"
          ],
          "name": "stdout"
        }
      ]
    },
    {
      "cell_type": "markdown",
      "metadata": {
        "id": "6cQdZ3Gd8R8U",
        "colab_type": "text"
      },
      "source": [
        "## Great Job!"
      ]
    }
  ]
}