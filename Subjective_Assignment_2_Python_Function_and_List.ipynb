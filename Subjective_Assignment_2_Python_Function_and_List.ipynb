{
  "nbformat": 4,
  "nbformat_minor": 0,
  "metadata": {
    "kernelspec": {
      "display_name": "Python 3",
      "language": "python",
      "name": "python3"
    },
    "language_info": {
      "codemirror_mode": {
        "name": "ipython",
        "version": 3
      },
      "file_extension": ".py",
      "mimetype": "text/x-python",
      "name": "python",
      "nbconvert_exporter": "python",
      "pygments_lexer": "ipython3",
      "version": "3.7.4"
    },
    "colab": {
      "name": "Subjective Assignment - 2 - Python Function and List.ipynb",
      "provenance": [],
      "include_colab_link": true
    }
  },
  "cells": [
    {
      "cell_type": "markdown",
      "metadata": {
        "id": "view-in-github",
        "colab_type": "text"
      },
      "source": [
        "<a href=\"https://colab.research.google.com/github/zanzaneamit/amitz_DL/blob/master/Subjective_Assignment_2_Python_Function_and_List.ipynb\" target=\"_parent\"><img src=\"https://colab.research.google.com/assets/colab-badge.svg\" alt=\"Open In Colab\"/></a>"
      ]
    },
    {
      "cell_type": "markdown",
      "metadata": {
        "id": "rJtv3BpRvPcn",
        "colab_type": "text"
      },
      "source": [
        "# Assignments"
      ]
    },
    {
      "cell_type": "markdown",
      "metadata": {
        "id": "RVscK-lmvPcr",
        "colab_type": "text"
      },
      "source": [
        "Q1. Write the Python function to get a string made of 4 copies of the last\n",
        "two characters of the specified string (length must be at least 2).\n",
        "\n",
        "    Sample function and result :\n",
        "    insert-end ('Python') -> abababab\n",
        "    insert-end('Exercises') -> jkjkjkjk"
      ]
    },
    {
      "cell_type": "code",
      "metadata": {
        "id": "vdYaO4QKvPct",
        "colab_type": "code",
        "outputId": "502290b6-45f5-418b-d8bf-b0e024b2660b",
        "colab": {
          "base_uri": "https://localhost:8080/",
          "height": 34
        }
      },
      "source": [
        "def insert_end(s):\n",
        "  if len(s)>=2:\n",
        "    return s[-2:]*4\n",
        "\n",
        "str='Exercises'\n",
        "print(insert_end(str))"
      ],
      "execution_count": 0,
      "outputs": [
        {
          "output_type": "stream",
          "text": [
            "eseseses\n"
          ],
          "name": "stdout"
        }
      ]
    },
    {
      "cell_type": "markdown",
      "metadata": {
        "id": "FwUjU0NsvPcw",
        "colab_type": "text"
      },
      "source": [
        "Q2. Write the python function to get a string made of its first three\n",
        "characters of a specified string. If the length of the string is less than 3\n",
        "then return the original string.\n",
        "    \n",
        "    Sample function and result :\n",
        "    first-three('ipy') -> ipy\n",
        "    first-three('python') -> pyt"
      ]
    },
    {
      "cell_type": "code",
      "metadata": {
        "id": "gMUtwbU_vPcx",
        "colab_type": "code",
        "outputId": "0c371f75-2aa3-4946-802c-c93b9d50170a",
        "colab": {
          "base_uri": "https://localhost:8080/",
          "height": 34
        }
      },
      "source": [
        "def first_three(s):\n",
        "  return s[:3]\n",
        "\n",
        "str='Exercises'\n",
        "print(first_three(str))"
      ],
      "execution_count": 0,
      "outputs": [
        {
          "output_type": "stream",
          "text": [
            "Exe\n"
          ],
          "name": "stdout"
        }
      ]
    },
    {
      "cell_type": "markdown",
      "metadata": {
        "id": "AZariDvvvPc0",
        "colab_type": "text"
      },
      "source": [
        "Q3. Write the Python program to find smallest window that contains all\n",
        "characters of the given string?\n",
        "\n",
        "    Original Strings:\n",
        "    asdaewsqgtwwsa\n",
        "    Smallest window that contains all characters of the said string:\n",
        "    Daewsqgt"
      ]
    },
    {
      "cell_type": "code",
      "metadata": {
        "id": "Ds7u6Pm4vPc1",
        "colab_type": "code",
        "outputId": "d97a762c-63a8-4760-d1f4-fe27369bafcb",
        "colab": {
          "base_uri": "https://localhost:8080/",
          "height": 34
        }
      },
      "source": [
        "import re\n",
        "def smallest_window(s):\n",
        "  srch=set(s)\n",
        "  l=len(s)\n",
        "\n",
        "  matched=dict()\n",
        "  for i in range(l):\n",
        "    for j in range(l):\n",
        "      #print(s[i:j])\n",
        "      if (all(re.search(regex, s[i:j], flags=re.IGNORECASE) for regex in list(srch))):\n",
        "        matched[j-i] = s[i:j]\n",
        "\n",
        "  smallest = 0\n",
        "  for k,v in matched.items():\n",
        "    if smallest == 0:\n",
        "      smallest = k\n",
        "    else:\n",
        "      if smallest > k:\n",
        "        smallest = k\n",
        "  return matched[smallest]\n",
        "\n",
        "#testing\n",
        "str='asdaewsqgtwwsa'\n",
        "print(smallest_window(str))"
      ],
      "execution_count": 0,
      "outputs": [
        {
          "output_type": "stream",
          "text": [
            "daewsqgt\n"
          ],
          "name": "stdout"
        }
      ]
    },
    {
      "cell_type": "markdown",
      "metadata": {
        "id": "4fpat0yfvPc7",
        "colab_type": "text"
      },
      "source": [
        "Q4. Write the Python program to count number of substrings from a\n",
        "given string of lowercase alphabets with exactly k distinct (given)\n",
        "characters?\n",
        "\n",
        "    Input a string (lowercase alphabets): wolf\n",
        "    Input k: 4\n",
        "    Number of substrings with exactly 4 distinct characters: 1"
      ]
    },
    {
      "cell_type": "code",
      "metadata": {
        "id": "rJ-hPGCevPc8",
        "colab_type": "code",
        "outputId": "f004e005-77f1-431a-e87e-83b0e500f5c4",
        "colab": {
          "base_uri": "https://localhost:8080/",
          "height": 67
        }
      },
      "source": [
        "from itertools import combinations\n",
        "s=input('Input a string (lowercase alphabets):')\n",
        "n=int(input('Input k:'))\n",
        "comb = combinations(s,n)\n",
        "comb = [i for i in comb]\n",
        "print('Number of substrings with exactly %d distinct characters: %d' %(n,len(comb)))\n"
      ],
      "execution_count": 0,
      "outputs": [
        {
          "output_type": "stream",
          "text": [
            "Input a string (lowercase alphabets):wolf\n",
            "Input k:4\n",
            "Number of substrings with exactly 4 distinct characters: 1\n"
          ],
          "name": "stdout"
        }
      ]
    },
    {
      "cell_type": "markdown",
      "metadata": {
        "id": "S31TN89RvPc_",
        "colab_type": "text"
      },
      "source": [
        "Q5. Write the Python program to count number of non-empty\n",
        "substrings of the given string?\n",
        "\n",
        "    Input a string: w3resource\n",
        "    Number of substrings:\n",
        "    55"
      ]
    },
    {
      "cell_type": "code",
      "metadata": {
        "id": "zkQI8_2ovPdA",
        "colab_type": "code",
        "outputId": "dab13184-7396-4735-98c3-20575a71f5a8",
        "colab": {
          "base_uri": "https://localhost:8080/",
          "height": 50
        }
      },
      "source": [
        "s=input('Input a string: ')\n",
        "s_len = len(s)\n",
        "print(s_len*(s_len + 1)/2)"
      ],
      "execution_count": 0,
      "outputs": [
        {
          "output_type": "stream",
          "text": [
            "Input a string: w3resource\n",
            "55.0\n"
          ],
          "name": "stdout"
        }
      ]
    },
    {
      "cell_type": "markdown",
      "metadata": {
        "id": "w5gkiuWyvPdE",
        "colab_type": "text"
      },
      "source": [
        "Q6. Write the Python program to count the number of strings where the\n",
        "string length is 2 or more, and first and last character are same\n",
        "from a given list of strings.\n",
        "\n",
        "    Sample List : ['abc', 'xyz', 'wxw', '1331']\n",
        "    Expected Result: 2"
      ]
    },
    {
      "cell_type": "code",
      "metadata": {
        "id": "3JP9KlL4vPdG",
        "colab_type": "code",
        "outputId": "ea2ff9ec-519d-4289-9cf5-6a9c32265c57",
        "colab": {
          "base_uri": "https://localhost:8080/",
          "height": 50
        }
      },
      "source": [
        "s=input('Input space separated strings').split()\n",
        "print('Expected Result: %d'%(len([1 for i in s if i[0] == i[-1]])))\n"
      ],
      "execution_count": 0,
      "outputs": [
        {
          "output_type": "stream",
          "text": [
            "Input space separated stringsabc xyz wxw 1331\n",
            "Expected Result: 2\n"
          ],
          "name": "stdout"
        }
      ]
    },
    {
      "cell_type": "markdown",
      "metadata": {
        "id": "EQmRwNlpvPdM",
        "colab_type": "text"
      },
      "source": [
        "Q7. Write the Python program to get a list, sorted in increasing order by\n",
        "the last element in each tuple from the given list of non-empty\n",
        "tuples?\n",
        "\n",
        "    Sample List - [ (2, 5), (1, 2), (4, 4), (2, 3), (2, 1) ]\n",
        "    Expected Result - [ (2, 1), (1, 2), (2, 3), (4, 4), (2, 5) ]"
      ]
    },
    {
      "cell_type": "code",
      "metadata": {
        "id": "xuewMujZvPdN",
        "colab_type": "code",
        "colab": {
          "base_uri": "https://localhost:8080/",
          "height": 50
        },
        "outputId": "4880e397-41bb-4f1f-fcee-378192620586"
      },
      "source": [
        "l1=[ (2, 5), (1, 2), (4, 4), (2, 3), (2, 1) ]\n",
        "\n",
        "#option 1\n",
        "print(sorted(l1,key= lambda t1: t1[1]))\n",
        "\n",
        "#option 2\n",
        "for j in range(len(l1)-1):\n",
        "  for i in range(len(l1)-j-1):\n",
        "    if l1[i][1] > l1[i+1][1]:\n",
        "      temp = l1[i+1]\n",
        "      l1[i+1] = l1[i]\n",
        "      l1[i] = temp\n",
        "\n",
        "print(l1)"
      ],
      "execution_count": 9,
      "outputs": [
        {
          "output_type": "stream",
          "text": [
            "[(2, 1), (1, 2), (2, 3), (4, 4), (2, 5)]\n",
            "[(2, 1), (1, 2), (2, 3), (4, 4), (2, 5)]\n"
          ],
          "name": "stdout"
        }
      ]
    },
    {
      "cell_type": "markdown",
      "metadata": {
        "id": "hw3JqQ_uvPdQ",
        "colab_type": "text"
      },
      "source": [
        "Q8. Write the Python program to remove duplicates from a list?"
      ]
    },
    {
      "cell_type": "code",
      "metadata": {
        "id": "TIei7jhGvPdR",
        "colab_type": "code",
        "colab": {
          "base_uri": "https://localhost:8080/",
          "height": 50
        },
        "outputId": "ffb16bbf-84de-4f8f-ab06-c9bb326d0824"
      },
      "source": [
        "l1=input('Input List separated by space').split()\n",
        "\n",
        "print(list(set(l1)))"
      ],
      "execution_count": 11,
      "outputs": [
        {
          "output_type": "stream",
          "text": [
            "Input List separated by space1 2 3 4 5 6 7 8 9 8 6 5 7 4 6 \n",
            "['8', '4', '1', '2', '3', '5', '7', '9', '6']\n"
          ],
          "name": "stdout"
        }
      ]
    },
    {
      "cell_type": "markdown",
      "metadata": {
        "id": "bf4ub7cRvPdU",
        "colab_type": "text"
      },
      "source": [
        "Q9. Write the Python program to find the list of words that are longer\n",
        "than n from a given list of words?"
      ]
    },
    {
      "cell_type": "code",
      "metadata": {
        "id": "7C9rIPJ0vPdU",
        "colab_type": "code",
        "colab": {
          "base_uri": "https://localhost:8080/",
          "height": 67
        },
        "outputId": "b8df7e2a-02a0-422d-92d6-c0c5063c9361"
      },
      "source": [
        "s=input('Input list').split()\n",
        "n=int(input('Input value for n'))\n",
        "\n",
        "list_out=[]\n",
        "for i in s:\n",
        "  if len(i) > n:\n",
        "    list_out.append(i)\n",
        "\n",
        "print(list_out)"
      ],
      "execution_count": 13,
      "outputs": [
        {
          "output_type": "stream",
          "text": [
            "Input lista bb ccc dddd eeeee fff gg\n",
            "Input value for n2\n",
            "['ccc', 'dddd', 'eeeee', 'fff']\n"
          ],
          "name": "stdout"
        }
      ]
    },
    {
      "cell_type": "markdown",
      "metadata": {
        "id": "UqgdaM8svPdX",
        "colab_type": "text"
      },
      "source": [
        "Q10. Write the Python program to print a specified list after removing the\n",
        "0th, 4th, and 5th elements?\n",
        "    \n",
        "    Sample List - ['Red', 'Green', 'White', 'Black', 'Pink', 'Yellow']\n",
        "    Expected Output - ['Green', 'White', 'Black']"
      ]
    },
    {
      "cell_type": "code",
      "metadata": {
        "id": "NWLI6KOYvPda",
        "colab_type": "code",
        "colab": {
          "base_uri": "https://localhost:8080/",
          "height": 34
        },
        "outputId": "d5ded851-b222-458f-aeeb-7ec750963916"
      },
      "source": [
        "l1 = ['Red', 'Green', 'White', 'Black', 'Pink', 'Yellow']\n",
        "l1.pop(5)\n",
        "l1.pop(4)\n",
        "l1.pop(0)\n",
        "print(l1)"
      ],
      "execution_count": 16,
      "outputs": [
        {
          "output_type": "stream",
          "text": [
            "['Green', 'White', 'Black']\n"
          ],
          "name": "stdout"
        }
      ]
    },
    {
      "cell_type": "markdown",
      "metadata": {
        "id": "HeWB07o-vPdd",
        "colab_type": "text"
      },
      "source": [
        "Q11. Write the Python program to generate all permutations of a list in\n",
        "Python?"
      ]
    },
    {
      "cell_type": "code",
      "metadata": {
        "id": "0T_aegmWvPde",
        "colab_type": "code",
        "colab": {
          "base_uri": "https://localhost:8080/",
          "height": 70
        },
        "outputId": "a0faaf15-f52f-49e5-f210-85679185b57a"
      },
      "source": [
        "from itertools import permutations\n",
        "s=input('Input list').split()\n",
        "\n",
        "perm = permutations(s)\n",
        "print([i for i in perm])"
      ],
      "execution_count": 20,
      "outputs": [
        {
          "output_type": "stream",
          "text": [
            "Input lista b c d\n",
            "[('a', 'b', 'c', 'd'), ('a', 'b', 'd', 'c'), ('a', 'c', 'b', 'd'), ('a', 'c', 'd', 'b'), ('a', 'd', 'b', 'c'), ('a', 'd', 'c', 'b'), ('b', 'a', 'c', 'd'), ('b', 'a', 'd', 'c'), ('b', 'c', 'a', 'd'), ('b', 'c', 'd', 'a'), ('b', 'd', 'a', 'c'), ('b', 'd', 'c', 'a'), ('c', 'a', 'b', 'd'), ('c', 'a', 'd', 'b'), ('c', 'b', 'a', 'd'), ('c', 'b', 'd', 'a'), ('c', 'd', 'a', 'b'), ('c', 'd', 'b', 'a'), ('d', 'a', 'b', 'c'), ('d', 'a', 'c', 'b'), ('d', 'b', 'a', 'c'), ('d', 'b', 'c', 'a'), ('d', 'c', 'a', 'b'), ('d', 'c', 'b', 'a')]\n"
          ],
          "name": "stdout"
        }
      ]
    },
    {
      "cell_type": "markdown",
      "metadata": {
        "id": "n0tyP2AdvPdj",
        "colab_type": "text"
      },
      "source": [
        "Q12. Write the Python program to convert a pair of values into a sorted\n",
        "unique array?\n",
        " \n",
        "    Original List- [ (1, 2), (3, 4), (1, 2), (5, 6), (7, 8), (1, 2), (3, 4), (3, 4), (7, 8), (9, 10) ]\n",
        "    Sorted Unique Data- [ 1, 2, 3, 4, 5, 6, 7, 8, 9, 10 ] \n"
      ]
    },
    {
      "cell_type": "code",
      "metadata": {
        "id": "gWOfxAZpvPdk",
        "colab_type": "code",
        "colab": {
          "base_uri": "https://localhost:8080/",
          "height": 34
        },
        "outputId": "4835afda-ec9f-43ba-ca54-d3a8260a683c"
      },
      "source": [
        "l1 = [ (1, 2), (3, 4), (1, 2), (5, 6), (7, 8), (1, 2), (3, 4), (3, 4), (7, 8), (9, 10) ]\n",
        "\n",
        "s1 = set()\n",
        "for i in l1:\n",
        "  s1.add(i[0])\n",
        "  s1.add(i[1])\n",
        "\n",
        "print(list(s1))\n"
      ],
      "execution_count": 24,
      "outputs": [
        {
          "output_type": "stream",
          "text": [
            "[1, 2, 3, 4, 5, 6, 7, 8, 9, 10]\n"
          ],
          "name": "stdout"
        }
      ]
    },
    {
      "cell_type": "markdown",
      "metadata": {
        "id": "96iakOi0vPdn",
        "colab_type": "text"
      },
      "source": [
        "## Great job!"
      ]
    }
  ]
}